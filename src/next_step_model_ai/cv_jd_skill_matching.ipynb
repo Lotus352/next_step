{
 "cells": [
  {
   "cell_type": "code",
   "execution_count": 22,
   "id": "fa727910",
   "metadata": {},
   "outputs": [],
   "source": [
    "# -*- coding: utf-8 -*-\n",
    "from __future__ import annotations\n",
    "\n",
    "import re\n",
    "import unicodedata\n",
    "import numpy as np\n",
    "import pandas as pd\n",
    "\n",
    "from typing import List, Dict, Any\n",
    "from sentence_transformers import SentenceTransformer, util\n",
    "\n",
    "_model_cache: SentenceTransformer | None = None\n",
    "\n",
    "def _get_model() -> SentenceTransformer:\n",
    "    global _model_cache\n",
    "    if _model_cache is None:\n",
    "        _model_cache = SentenceTransformer(\"sentence-transformers/all-mpnet-base-v2\")\n",
    "    return _model_cache\n",
    "\n",
    "def _n(s: str) -> str:\n",
    "    s = s.lower().strip()\n",
    "    s = unicodedata.normalize(\"NFKD\", s)\n",
    "    s = re.sub(r\"[^a-z0-9.+\\s]\", \" \", s)\n",
    "    return \" \".join(s.split())\n",
    "\n",
    "def compare_skills(cv: List[str], jd: List[str], *, threshold: float = 0.6) -> Dict[str, Any]:\n",
    "    cv_c = [_n(x) for x in cv]\n",
    "    jd_c = [_n(x) for x in jd]\n",
    "    m = _get_model()\n",
    "    cv_e = m.encode(cv_c, convert_to_tensor=True)\n",
    "    jd_e = m.encode(jd_c, convert_to_tensor=True)\n",
    "    sim = util.cos_sim(jd_e, cv_e).cpu().numpy()\n",
    "    sim_df = pd.DataFrame(sim, index=jd, columns=cv)\n",
    "    bin_df = pd.DataFrame((sim >= threshold).astype(np.int8), index=jd, columns=cv)\n",
    "    matches = bin_df.max(axis=1).to_numpy(bool)\n",
    "    score = int(matches.sum())\n",
    "    score_percent = round(score / len(jd) * 100, 2) if jd else 0.0\n",
    "    return {\n",
    "        \"similarity\": sim_df,\n",
    "        \"binary\": bin_df,\n",
    "        \"matches\": matches,\n",
    "        \"score\": score,\n",
    "        \"score_percent\": score_percent\n",
    "    }"
   ]
  },
  {
   "cell_type": "code",
   "execution_count": 23,
   "id": "525ff2f0",
   "metadata": {},
   "outputs": [
    {
     "name": "stdout",
     "output_type": "stream",
     "text": [
      "Cosine Similarity Matrix:\n",
      "                       Python       SQL    Docker  TensorFlow  Data Analysis\n",
      "Python Programming  0.788405  0.295026  0.134603    0.299467       0.358885\n",
      "Machine Learning    0.384568  0.315531  0.147993    0.408608       0.484847\n",
      "Docker              0.180659  0.077535  1.000000    0.261846       0.094295\n",
      "\n",
      "Binary Match Matrix (1 = match):\n",
      "                     Python  SQL  Docker  TensorFlow  Data Analysis\n",
      "Python Programming       1    0       0           0              0\n",
      "Machine Learning         0    0       0           0              0\n",
      "Docker                   0    0       1           0              0\n",
      "\n",
      "Matched JD Skills: 2\n",
      "Skill Match Score (%): 66.67\n"
     ]
    }
   ],
   "source": [
    "if __name__ == \"__main__\":\n",
    "    cv_skills = [\"Python\", \"SQL\", \"Docker\", \"TensorFlow\", \"Data Analysis\"]\n",
    "    jd_skills = [\"Python Programming\", \"Machine Learning\", \"Docker\"]\n",
    "\n",
    "    result = compare_skills(cv_skills, jd_skills, threshold=0.6)\n",
    "\n",
    "    print(\"Cosine Similarity Matrix:\\n\", result[\"similarity\"])\n",
    "    print(\"\\nBinary Match Matrix (1 = match):\\n\", result[\"binary\"])\n",
    "    print(\"\\nMatched JD Skills:\", int(result[\"score\"]))\n",
    "    print(\"Skill Match Score (%):\", result[\"score_percent\"])"
   ]
  }
 ],
 "metadata": {
  "kernelspec": {
   "display_name": "Python 3",
   "language": "python",
   "name": "python3"
  },
  "language_info": {
   "codemirror_mode": {
    "name": "ipython",
    "version": 3
   },
   "file_extension": ".py",
   "mimetype": "text/x-python",
   "name": "python",
   "nbconvert_exporter": "python",
   "pygments_lexer": "ipython3",
   "version": "3.10.0"
  }
 },
 "nbformat": 4,
 "nbformat_minor": 5
}
