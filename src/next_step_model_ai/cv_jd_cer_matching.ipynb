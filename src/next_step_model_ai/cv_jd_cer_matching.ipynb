{
 "cells": [
  {
   "cell_type": "code",
   "execution_count": 5,
   "id": "5dbb2246",
   "metadata": {},
   "outputs": [],
   "source": [
    "# -*- coding: utf-8 -*-\n",
    "from __future__ import annotations\n",
    "from typing import List, Dict, Any, Tuple\n",
    "\n",
    "degree_order = {\n",
    "    \"High School\": 0,\n",
    "    \"Associate Degree\": 1,\n",
    "    \"Bachelor\": 2,\n",
    "    \"Master\": 3,\n",
    "    \"PhD\": 4,\n",
    "    \"Doctorate\": 4\n",
    "}\n",
    "\n",
    "language_certificates = {\n",
    "    \"TOEIC\",\n",
    "    \"TOEFL\",\n",
    "    \"IELTS\"\n",
    "}\n",
    "\n",
    "def compare_degree(cv_degree: str, jd_degrees: List[str]) -> Dict[str, Any]:\n",
    "    cv_val = degree_order.get(cv_degree.strip(), -1)\n",
    "    jd_vals = [degree_order.get(j.strip(), -1) for j in jd_degrees if j.strip() in degree_order]\n",
    "\n",
    "    if cv_val < 0 or not jd_vals:\n",
    "        raise ValueError(\"Invalid degree input\")\n",
    "\n",
    "    match = any(cv_val >= jd_val for jd_val in jd_vals)\n",
    "    return {\"cv\": cv_val, \"jd\": jd_vals, \"match\": match}\n",
    "\n",
    "def match_certificates(cv_certs: List[Tuple[str, float]], jd_requirements: Dict[str, float]) -> Dict[str, Any]:\n",
    "    matched = []\n",
    "    total_required = len(jd_requirements)\n",
    "    for cert, score in cv_certs:\n",
    "        required_score = jd_requirements.get(cert)\n",
    "        if required_score is not None:\n",
    "            try:\n",
    "                if score >= float(required_score):\n",
    "                    matched.append((cert, score))\n",
    "            except ValueError:\n",
    "                continue\n",
    "\n",
    "    match = bool(matched)\n",
    "    score_percent = round(len(matched) / total_required * 100, 2) if total_required > 0 else 0.0\n",
    "\n",
    "    return {\n",
    "        \"cv\": cv_certs,\n",
    "        \"jd\": jd_requirements,\n",
    "        \"match\": match,\n",
    "        \"matched_certificates\": matched,\n",
    "        \"score_percent\": score_percent\n",
    "    }\n"
   ]
  },
  {
   "cell_type": "code",
   "execution_count": 6,
   "id": "3122c875",
   "metadata": {},
   "outputs": [
    {
     "name": "stdout",
     "output_type": "stream",
     "text": [
      "CV degree: Bachelor ( 2 )\n",
      "JD degrees: ['High School', 'Associate Degree'] ( [0, 1] )\n",
      "Degree Match: True\n",
      "\n",
      "CV Certificates: [('IELTS', 6.5), ('Google Analytics', 0)]\n",
      "JD Required Certs: {'TOEIC': 700, 'IELTS': 6.0, 'Google Analytics': 0}\n",
      "Matched Certificates: [('IELTS', 6.5), ('Google Analytics', 0)]\n",
      "Certificate Match Score (%): 66.67\n"
     ]
    }
   ],
   "source": [
    "if __name__ == \"__main__\":\n",
    "    cv_degree = \"Bachelor\"\n",
    "    jd_degrees = [\"High School\", \"Associate Degree\"]\n",
    "\n",
    "    deg_result = compare_degree(cv_degree, jd_degrees)\n",
    "    print(\"CV degree:\", cv_degree, \"(\", deg_result[\"cv\"], \")\")\n",
    "    print(\"JD degrees:\", jd_degrees, \"(\", deg_result[\"jd\"], \")\")\n",
    "    print(\"Degree Match:\", deg_result[\"match\"])\n",
    "\n",
    "    cv_certs = [(\"IELTS\", 6.5), (\"Google Analytics\", 0)]\n",
    "    jd_certs_required = {\"TOEIC\": 700, \"IELTS\": 6.0, \"Google Analytics\": 0}\n",
    "\n",
    "    cert_result = match_certificates(cv_certs, jd_certs_required)\n",
    "    print(\"\\nCV Certificates:\", cert_result[\"cv\"])\n",
    "    print(\"JD Required Certs:\", cert_result[\"jd\"])\n",
    "    print(\"Matched Certificates:\", cert_result[\"matched_certificates\"])\n",
    "    print(\"Certificate Match Score (%):\", cert_result[\"score_percent\"])"
   ]
  }
 ],
 "metadata": {
  "kernelspec": {
   "display_name": "Python 3",
   "language": "python",
   "name": "python3"
  },
  "language_info": {
   "codemirror_mode": {
    "name": "ipython",
    "version": 3
   },
   "file_extension": ".py",
   "mimetype": "text/x-python",
   "name": "python",
   "nbconvert_exporter": "python",
   "pygments_lexer": "ipython3",
   "version": "3.10.0"
  }
 },
 "nbformat": 4,
 "nbformat_minor": 5
}
