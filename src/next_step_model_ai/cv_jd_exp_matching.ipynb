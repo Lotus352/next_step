{
 "cells": [
  {
   "cell_type": "code",
   "execution_count": 4,
   "id": "d445ce34",
   "metadata": {},
   "outputs": [
    {
     "name": "stdout",
     "output_type": "stream",
     "text": [
      "CV level: Associate ( 2 )\n",
      "JD levels: ['Entry level', 'Internship'] ( [1, 0] )\n",
      "Match: True\n"
     ]
    }
   ],
   "source": [
    "# -*- coding: utf-8 -*-\n",
    "from __future__ import annotations\n",
    "\n",
    "from typing import List, Dict, Any\n",
    "\n",
    "exp_map = {\n",
    "    \"Internship\": 0,\n",
    "    \"Entry level\": 1,\n",
    "    \"Associate\": 2,\n",
    "    \"Mid-Senior level\": 3,\n",
    "    \"Executive\": 4,\n",
    "    \"Director\": 5\n",
    "}\n",
    "\n",
    "def compare_experience(cv_level: str, jd_levels: List[str]) -> Dict[str, Any]:\n",
    "    cv_exp = exp_map.get(cv_level.strip(), -1)\n",
    "    jd_exps = [exp_map.get(j.strip(), -1) for j in jd_levels if j.strip() in exp_map]\n",
    "\n",
    "    if cv_exp < 0 or not jd_exps:\n",
    "        raise ValueError(\"Invalid experience level\")\n",
    "\n",
    "    match = any(cv_exp >= jd_exp for jd_exp in jd_exps)\n",
    "    return {\"cv\": cv_exp, \"jd\": jd_exps, \"match\": match}\n",
    "\n",
    "if __name__ == \"__main__\":\n",
    "    cv_level = \"Associate\"\n",
    "    jd_levels = [\"Entry level\", \"Internship\"]\n",
    "\n",
    "    result = compare_experience(cv_level, jd_levels)\n",
    "    print(\"CV level:\", cv_level, \"(\", result[\"cv\"], \")\")\n",
    "    print(\"JD levels:\", jd_levels, \"(\", result[\"jd\"], \")\")\n",
    "    print(\"Match:\", result[\"match\"])\n"
   ]
  }
 ],
 "metadata": {
  "kernelspec": {
   "display_name": "Python 3",
   "language": "python",
   "name": "python3"
  },
  "language_info": {
   "codemirror_mode": {
    "name": "ipython",
    "version": 3
   },
   "file_extension": ".py",
   "mimetype": "text/x-python",
   "name": "python",
   "nbconvert_exporter": "python",
   "pygments_lexer": "ipython3",
   "version": "3.10.0"
  }
 },
 "nbformat": 4,
 "nbformat_minor": 5
}
